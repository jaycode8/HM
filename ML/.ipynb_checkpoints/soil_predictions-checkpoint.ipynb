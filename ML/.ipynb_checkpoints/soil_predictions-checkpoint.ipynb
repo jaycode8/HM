{
 "cells": [
  {
   "cell_type": "markdown",
   "id": "4c640ef2-4a64-44b0-ba1e-d7496cefa788",
   "metadata": {},
   "source": [
    "# Soil prediction"
   ]
  },
  {
   "cell_type": "markdown",
   "id": "3c356589-f6db-45c6-bad9-70c17ce09758",
   "metadata": {},
   "source": [
    "### Libraries"
   ]
  },
  {
   "cell_type": "code",
   "execution_count": 95,
   "id": "2eb5e246-f4d5-4616-9f10-e3209b5c7307",
   "metadata": {},
   "outputs": [],
   "source": [
    "import pandas as pd\n",
    "import numpy as np\n",
    "import matplotlib.pyplot as plt\n",
    "from sklearn.preprocessing import LabelEncoder\n",
    "from sklearn.model_selection import train_test_split\n",
    "from sklearn.ensemble import RandomForestClassifier, RandomForestRegressor\n",
    "from sklearn.metrics import accuracy_score, r2_score\n",
    "import pickle"
   ]
  },
  {
   "cell_type": "code",
   "execution_count": 188,
   "id": "c787703c-83de-4d6c-b5fc-31161c0c787c",
   "metadata": {},
   "outputs": [],
   "source": [
    "soil_data = pd.read_csv(\"./soil.csv\")"
   ]
  },
  {
   "cell_type": "code",
   "execution_count": 4,
   "id": "6fe127c9-34d0-4a38-a39f-aabcc676a687",
   "metadata": {},
   "outputs": [
    {
     "data": {
      "text/html": [
       "<div>\n",
       "<style scoped>\n",
       "    .dataframe tbody tr th:only-of-type {\n",
       "        vertical-align: middle;\n",
       "    }\n",
       "\n",
       "    .dataframe tbody tr th {\n",
       "        vertical-align: top;\n",
       "    }\n",
       "\n",
       "    .dataframe thead th {\n",
       "        text-align: right;\n",
       "    }\n",
       "</style>\n",
       "<table border=\"1\" class=\"dataframe\">\n",
       "  <thead>\n",
       "    <tr style=\"text-align: right;\">\n",
       "      <th></th>\n",
       "      <th>sample_id</th>\n",
       "      <th>soil_moisture_percent</th>\n",
       "      <th>soil_ph</th>\n",
       "      <th>temperature_celsius</th>\n",
       "      <th>depth_cm</th>\n",
       "      <th>soil_type</th>\n",
       "      <th>location_type</th>\n",
       "      <th>season</th>\n",
       "      <th>organic_matter_percent</th>\n",
       "      <th>precipitation_mm</th>\n",
       "      <th>nitrogen_mg_kg</th>\n",
       "      <th>phosphorus_mg_kg</th>\n",
       "      <th>potassium_mg_kg</th>\n",
       "    </tr>\n",
       "  </thead>\n",
       "  <tbody>\n",
       "    <tr>\n",
       "      <th>0</th>\n",
       "      <td>SM001</td>\n",
       "      <td>21.1</td>\n",
       "      <td>5.6</td>\n",
       "      <td>22.3</td>\n",
       "      <td>36</td>\n",
       "      <td>Silty</td>\n",
       "      <td>Grassland</td>\n",
       "      <td>Fall</td>\n",
       "      <td>3.4</td>\n",
       "      <td>63</td>\n",
       "      <td>16</td>\n",
       "      <td>14</td>\n",
       "      <td>128</td>\n",
       "    </tr>\n",
       "    <tr>\n",
       "      <th>1</th>\n",
       "      <td>SM002</td>\n",
       "      <td>33.5</td>\n",
       "      <td>6.0</td>\n",
       "      <td>21.7</td>\n",
       "      <td>33</td>\n",
       "      <td>Peaty</td>\n",
       "      <td>Urban</td>\n",
       "      <td>Fall</td>\n",
       "      <td>14.3</td>\n",
       "      <td>45</td>\n",
       "      <td>84</td>\n",
       "      <td>26</td>\n",
       "      <td>286</td>\n",
       "    </tr>\n",
       "    <tr>\n",
       "      <th>2</th>\n",
       "      <td>SM003</td>\n",
       "      <td>39.8</td>\n",
       "      <td>6.1</td>\n",
       "      <td>11.9</td>\n",
       "      <td>39</td>\n",
       "      <td>Clay</td>\n",
       "      <td>Wetland</td>\n",
       "      <td>Spring</td>\n",
       "      <td>7.9</td>\n",
       "      <td>47</td>\n",
       "      <td>46</td>\n",
       "      <td>22</td>\n",
       "      <td>161</td>\n",
       "    </tr>\n",
       "    <tr>\n",
       "      <th>3</th>\n",
       "      <td>SM004</td>\n",
       "      <td>49.7</td>\n",
       "      <td>4.0</td>\n",
       "      <td>14.7</td>\n",
       "      <td>26</td>\n",
       "      <td>Peaty</td>\n",
       "      <td>Forest</td>\n",
       "      <td>Fall</td>\n",
       "      <td>11.1</td>\n",
       "      <td>39</td>\n",
       "      <td>49</td>\n",
       "      <td>21</td>\n",
       "      <td>186</td>\n",
       "    </tr>\n",
       "    <tr>\n",
       "      <th>4</th>\n",
       "      <td>SM005</td>\n",
       "      <td>47.4</td>\n",
       "      <td>5.1</td>\n",
       "      <td>14.5</td>\n",
       "      <td>35</td>\n",
       "      <td>Peaty</td>\n",
       "      <td>Urban</td>\n",
       "      <td>Spring</td>\n",
       "      <td>10.6</td>\n",
       "      <td>53</td>\n",
       "      <td>61</td>\n",
       "      <td>20</td>\n",
       "      <td>201</td>\n",
       "    </tr>\n",
       "  </tbody>\n",
       "</table>\n",
       "</div>"
      ],
      "text/plain": [
       "  sample_id  soil_moisture_percent  soil_ph  temperature_celsius  depth_cm  \\\n",
       "0     SM001                   21.1      5.6                 22.3        36   \n",
       "1     SM002                   33.5      6.0                 21.7        33   \n",
       "2     SM003                   39.8      6.1                 11.9        39   \n",
       "3     SM004                   49.7      4.0                 14.7        26   \n",
       "4     SM005                   47.4      5.1                 14.5        35   \n",
       "\n",
       "  soil_type location_type  season  organic_matter_percent  precipitation_mm  \\\n",
       "0     Silty     Grassland    Fall                     3.4                63   \n",
       "1     Peaty         Urban    Fall                    14.3                45   \n",
       "2      Clay       Wetland  Spring                     7.9                47   \n",
       "3     Peaty        Forest    Fall                    11.1                39   \n",
       "4     Peaty         Urban  Spring                    10.6                53   \n",
       "\n",
       "   nitrogen_mg_kg  phosphorus_mg_kg  potassium_mg_kg  \n",
       "0              16                14              128  \n",
       "1              84                26              286  \n",
       "2              46                22              161  \n",
       "3              49                21              186  \n",
       "4              61                20              201  "
      ]
     },
     "execution_count": 4,
     "metadata": {},
     "output_type": "execute_result"
    }
   ],
   "source": [
    "soil_data.head()"
   ]
  },
  {
   "cell_type": "markdown",
   "id": "bcfb9373-d78d-49fe-9dcf-998a2675e4e6",
   "metadata": {},
   "source": [
    "### data analysis"
   ]
  },
  {
   "cell_type": "code",
   "execution_count": 6,
   "id": "968cb3a1-4acb-47d0-9219-8e0f8e047b12",
   "metadata": {},
   "outputs": [
    {
     "data": {
      "text/plain": [
       "(464, 13)"
      ]
     },
     "execution_count": 6,
     "metadata": {},
     "output_type": "execute_result"
    }
   ],
   "source": [
    "soil_data.shape"
   ]
  },
  {
   "cell_type": "code",
   "execution_count": 55,
   "id": "1de991b2-de02-46b6-a6cb-a520359d4573",
   "metadata": {},
   "outputs": [
    {
     "data": {
      "text/html": [
       "<div>\n",
       "<style scoped>\n",
       "    .dataframe tbody tr th:only-of-type {\n",
       "        vertical-align: middle;\n",
       "    }\n",
       "\n",
       "    .dataframe tbody tr th {\n",
       "        vertical-align: top;\n",
       "    }\n",
       "\n",
       "    .dataframe thead th {\n",
       "        text-align: right;\n",
       "    }\n",
       "</style>\n",
       "<table border=\"1\" class=\"dataframe\">\n",
       "  <thead>\n",
       "    <tr style=\"text-align: right;\">\n",
       "      <th></th>\n",
       "      <th>soil_moisture_percent</th>\n",
       "      <th>soil_ph</th>\n",
       "      <th>temperature_celsius</th>\n",
       "      <th>depth_cm</th>\n",
       "      <th>organic_matter_percent</th>\n",
       "      <th>precipitation_mm</th>\n",
       "      <th>nitrogen_mg_kg</th>\n",
       "      <th>phosphorus_mg_kg</th>\n",
       "      <th>potassium_mg_kg</th>\n",
       "    </tr>\n",
       "  </thead>\n",
       "  <tbody>\n",
       "    <tr>\n",
       "      <th>count</th>\n",
       "      <td>464.000000</td>\n",
       "      <td>464.000000</td>\n",
       "      <td>464.000000</td>\n",
       "      <td>464.000000</td>\n",
       "      <td>464.000000</td>\n",
       "      <td>464.000000</td>\n",
       "      <td>464.000000</td>\n",
       "      <td>464.000000</td>\n",
       "      <td>464.000000</td>\n",
       "    </tr>\n",
       "    <tr>\n",
       "      <th>mean</th>\n",
       "      <td>28.957328</td>\n",
       "      <td>6.291164</td>\n",
       "      <td>15.716379</td>\n",
       "      <td>26.071121</td>\n",
       "      <td>5.885776</td>\n",
       "      <td>60.189655</td>\n",
       "      <td>29.866379</td>\n",
       "      <td>15.424569</td>\n",
       "      <td>154.187500</td>\n",
       "    </tr>\n",
       "    <tr>\n",
       "      <th>std</th>\n",
       "      <td>10.961481</td>\n",
       "      <td>1.266834</td>\n",
       "      <td>7.853576</td>\n",
       "      <td>13.415172</td>\n",
       "      <td>4.377852</td>\n",
       "      <td>22.917417</td>\n",
       "      <td>22.775916</td>\n",
       "      <td>5.349827</td>\n",
       "      <td>60.510726</td>\n",
       "    </tr>\n",
       "    <tr>\n",
       "      <th>min</th>\n",
       "      <td>5.000000</td>\n",
       "      <td>3.500000</td>\n",
       "      <td>0.000000</td>\n",
       "      <td>1.000000</td>\n",
       "      <td>0.200000</td>\n",
       "      <td>11.000000</td>\n",
       "      <td>1.000000</td>\n",
       "      <td>4.000000</td>\n",
       "      <td>54.000000</td>\n",
       "    </tr>\n",
       "    <tr>\n",
       "      <th>25%</th>\n",
       "      <td>21.275000</td>\n",
       "      <td>5.400000</td>\n",
       "      <td>8.900000</td>\n",
       "      <td>14.000000</td>\n",
       "      <td>2.900000</td>\n",
       "      <td>47.000000</td>\n",
       "      <td>14.750000</td>\n",
       "      <td>11.750000</td>\n",
       "      <td>113.000000</td>\n",
       "    </tr>\n",
       "    <tr>\n",
       "      <th>50%</th>\n",
       "      <td>29.400000</td>\n",
       "      <td>6.300000</td>\n",
       "      <td>16.450000</td>\n",
       "      <td>26.000000</td>\n",
       "      <td>4.600000</td>\n",
       "      <td>63.500000</td>\n",
       "      <td>23.000000</td>\n",
       "      <td>15.000000</td>\n",
       "      <td>142.000000</td>\n",
       "    </tr>\n",
       "    <tr>\n",
       "      <th>75%</th>\n",
       "      <td>37.825000</td>\n",
       "      <td>7.100000</td>\n",
       "      <td>21.125000</td>\n",
       "      <td>38.000000</td>\n",
       "      <td>6.800000</td>\n",
       "      <td>78.000000</td>\n",
       "      <td>36.250000</td>\n",
       "      <td>18.000000</td>\n",
       "      <td>172.250000</td>\n",
       "    </tr>\n",
       "    <tr>\n",
       "      <th>max</th>\n",
       "      <td>50.000000</td>\n",
       "      <td>9.300000</td>\n",
       "      <td>30.600000</td>\n",
       "      <td>49.000000</td>\n",
       "      <td>26.900000</td>\n",
       "      <td>103.000000</td>\n",
       "      <td>117.000000</td>\n",
       "      <td>40.000000</td>\n",
       "      <td>435.000000</td>\n",
       "    </tr>\n",
       "  </tbody>\n",
       "</table>\n",
       "</div>"
      ],
      "text/plain": [
       "       soil_moisture_percent     soil_ph  temperature_celsius    depth_cm  \\\n",
       "count             464.000000  464.000000           464.000000  464.000000   \n",
       "mean               28.957328    6.291164            15.716379   26.071121   \n",
       "std                10.961481    1.266834             7.853576   13.415172   \n",
       "min                 5.000000    3.500000             0.000000    1.000000   \n",
       "25%                21.275000    5.400000             8.900000   14.000000   \n",
       "50%                29.400000    6.300000            16.450000   26.000000   \n",
       "75%                37.825000    7.100000            21.125000   38.000000   \n",
       "max                50.000000    9.300000            30.600000   49.000000   \n",
       "\n",
       "       organic_matter_percent  precipitation_mm  nitrogen_mg_kg  \\\n",
       "count              464.000000        464.000000      464.000000   \n",
       "mean                 5.885776         60.189655       29.866379   \n",
       "std                  4.377852         22.917417       22.775916   \n",
       "min                  0.200000         11.000000        1.000000   \n",
       "25%                  2.900000         47.000000       14.750000   \n",
       "50%                  4.600000         63.500000       23.000000   \n",
       "75%                  6.800000         78.000000       36.250000   \n",
       "max                 26.900000        103.000000      117.000000   \n",
       "\n",
       "       phosphorus_mg_kg  potassium_mg_kg  \n",
       "count        464.000000       464.000000  \n",
       "mean          15.424569       154.187500  \n",
       "std            5.349827        60.510726  \n",
       "min            4.000000        54.000000  \n",
       "25%           11.750000       113.000000  \n",
       "50%           15.000000       142.000000  \n",
       "75%           18.000000       172.250000  \n",
       "max           40.000000       435.000000  "
      ]
     },
     "execution_count": 55,
     "metadata": {},
     "output_type": "execute_result"
    }
   ],
   "source": [
    "soil_data.describe()"
   ]
  },
  {
   "cell_type": "code",
   "execution_count": 11,
   "id": "4186c895-c56f-4f13-a21b-fd1c264193e5",
   "metadata": {},
   "outputs": [
    {
     "data": {
      "text/plain": [
       "Index(['sample_id', 'soil_moisture_percent', 'soil_ph', 'temperature_celsius',\n",
       "       'depth_cm', 'soil_type', 'location_type', 'season',\n",
       "       'organic_matter_percent', 'precipitation_mm', 'nitrogen_mg_kg',\n",
       "       'phosphorus_mg_kg', 'potassium_mg_kg'],\n",
       "      dtype='object')"
      ]
     },
     "execution_count": 11,
     "metadata": {},
     "output_type": "execute_result"
    }
   ],
   "source": [
    "soil_data.columns"
   ]
  },
  {
   "cell_type": "code",
   "execution_count": 17,
   "id": "326ced58-a541-456d-b478-911f928ea07d",
   "metadata": {},
   "outputs": [
    {
     "name": "stdout",
     "output_type": "stream",
     "text": [
      "['Silty' 'Peaty' 'Clay' 'Sandy' 'Loamy']\n"
     ]
    }
   ],
   "source": [
    "types = soil_data['soil_type'].unique()\n",
    "print(types)"
   ]
  },
  {
   "cell_type": "code",
   "execution_count": 24,
   "id": "b6224685-284c-4dd8-8238-91db5b0aa5e4",
   "metadata": {},
   "outputs": [
    {
     "name": "stdout",
     "output_type": "stream",
     "text": [
      "soil_type\n",
      "Peaty    96\n",
      "Loamy    93\n",
      "Clay     92\n",
      "Sandy    92\n",
      "Silty    91\n",
      "Name: count, dtype: int64\n"
     ]
    }
   ],
   "source": [
    "occurance = soil_data['soil_type'].value_counts()\n",
    "print(occurance)"
   ]
  },
  {
   "cell_type": "markdown",
   "id": "ddddaed6-adfc-41d5-8d35-860a95985233",
   "metadata": {},
   "source": [
    "### Data visualization"
   ]
  },
  {
   "cell_type": "code",
   "execution_count": 60,
   "id": "7481b93c-1208-4126-ad99-7b2ba561eab7",
   "metadata": {},
   "outputs": [
    {
     "data": {
      "text/plain": [
       "<matplotlib.legend.Legend at 0x7f52f148c2f0>"
      ]
     },
     "execution_count": 60,
     "metadata": {},
     "output_type": "execute_result"
    },
    {
     "data": {
      "image/png": "[encoded data removed]",
      "text/plain": [
       "<Figure size 640x480 with 1 Axes>"
      ]
     },
     "metadata": {},
     "output_type": "display_data"
    }
   ],
   "source": [
    "occurance.plot.pie(autopct='%1.0f%%')\n",
    "plt.title('Soil Types Distribution',fontweight='bold', fontsize=20, color='y')\n",
    "plt.legend()"
   ]
  },
  {
   "cell_type": "code",
   "execution_count": 35,
   "id": "8d8acfe5-0d91-498d-b987-5de3eb4ecb22",
   "metadata": {},
   "outputs": [
    {
     "data": {
      "text/html": [
       "<div>\n",
       "<style scoped>\n",
       "    .dataframe tbody tr th:only-of-type {\n",
       "        vertical-align: middle;\n",
       "    }\n",
       "\n",
       "    .dataframe tbody tr th {\n",
       "        vertical-align: top;\n",
       "    }\n",
       "\n",
       "    .dataframe thead tr th {\n",
       "        text-align: left;\n",
       "    }\n",
       "</style>\n",
       "<table border=\"1\" class=\"dataframe\">\n",
       "  <thead>\n",
       "    <tr>\n",
       "      <th>soil_type</th>\n",
       "      <th colspan=\"10\" halign=\"left\">Clay</th>\n",
       "      <th>...</th>\n",
       "      <th colspan=\"10\" halign=\"left\">Silty</th>\n",
       "    </tr>\n",
       "    <tr>\n",
       "      <th>soil_ph</th>\n",
       "      <th>6.6</th>\n",
       "      <th>6.7</th>\n",
       "      <th>6.8</th>\n",
       "      <th>6.3</th>\n",
       "      <th>6.4</th>\n",
       "      <th>6.5</th>\n",
       "      <th>6.9</th>\n",
       "      <th>6.1</th>\n",
       "      <th>7.0</th>\n",
       "      <th>6.0</th>\n",
       "      <th>...</th>\n",
       "      <th>5.0</th>\n",
       "      <th>6.0</th>\n",
       "      <th>5.1</th>\n",
       "      <th>5.2</th>\n",
       "      <th>6.1</th>\n",
       "      <th>6.2</th>\n",
       "      <th>6.9</th>\n",
       "      <th>6.3</th>\n",
       "      <th>6.4</th>\n",
       "      <th>6.7</th>\n",
       "    </tr>\n",
       "  </thead>\n",
       "  <tbody>\n",
       "    <tr>\n",
       "      <th>count</th>\n",
       "      <td>8</td>\n",
       "      <td>8</td>\n",
       "      <td>8</td>\n",
       "      <td>7</td>\n",
       "      <td>7</td>\n",
       "      <td>7</td>\n",
       "      <td>7</td>\n",
       "      <td>5</td>\n",
       "      <td>5</td>\n",
       "      <td>4</td>\n",
       "      <td>...</td>\n",
       "      <td>5</td>\n",
       "      <td>5</td>\n",
       "      <td>4</td>\n",
       "      <td>4</td>\n",
       "      <td>4</td>\n",
       "      <td>4</td>\n",
       "      <td>3</td>\n",
       "      <td>2</td>\n",
       "      <td>1</td>\n",
       "      <td>1</td>\n",
       "    </tr>\n",
       "  </tbody>\n",
       "</table>\n",
       "<p>1 rows × 125 columns</p>\n",
       "</div>"
      ],
      "text/plain": [
       "soil_type Clay                                      ... Silty                  \\\n",
       "soil_ph    6.6 6.7 6.8 6.3 6.4 6.5 6.9 6.1 7.0 6.0  ...   5.0 6.0 5.1 5.2 6.1   \n",
       "count        8   8   8   7   7   7   7   5   5   4  ...     5   5   4   4   4   \n",
       "\n",
       "soil_type                      \n",
       "soil_ph   6.2 6.9 6.3 6.4 6.7  \n",
       "count       4   3   2   1   1  \n",
       "\n",
       "[1 rows x 125 columns]"
      ]
     },
     "execution_count": 35,
     "metadata": {},
     "output_type": "execute_result"
    }
   ],
   "source": [
    "ph = pd.DataFrame(soil_data.groupby('soil_type')['soil_ph'].value_counts())\n",
    "ph.T"
   ]
  },
  {
   "cell_type": "code",
   "execution_count": 36,
   "id": "6da3c5df-10b5-4b7f-9471-253fec418626",
   "metadata": {},
   "outputs": [
    {
     "data": {
      "text/html": [
       "<div>\n",
       "<style scoped>\n",
       "    .dataframe tbody tr th:only-of-type {\n",
       "        vertical-align: middle;\n",
       "    }\n",
       "\n",
       "    .dataframe tbody tr th {\n",
       "        vertical-align: top;\n",
       "    }\n",
       "\n",
       "    .dataframe thead tr th {\n",
       "        text-align: left;\n",
       "    }\n",
       "\n",
       "    .dataframe thead tr:last-of-type th {\n",
       "        text-align: right;\n",
       "    }\n",
       "</style>\n",
       "<table border=\"1\" class=\"dataframe\">\n",
       "  <thead>\n",
       "    <tr>\n",
       "      <th></th>\n",
       "      <th colspan=\"21\" halign=\"left\">count</th>\n",
       "    </tr>\n",
       "    <tr>\n",
       "      <th>soil_ph</th>\n",
       "      <th>3.5</th>\n",
       "      <th>3.6</th>\n",
       "      <th>3.7</th>\n",
       "      <th>3.8</th>\n",
       "      <th>3.9</th>\n",
       "      <th>4.0</th>\n",
       "      <th>4.1</th>\n",
       "      <th>4.2</th>\n",
       "      <th>4.3</th>\n",
       "      <th>4.4</th>\n",
       "      <th>...</th>\n",
       "      <th>8.4</th>\n",
       "      <th>8.5</th>\n",
       "      <th>8.6</th>\n",
       "      <th>8.7</th>\n",
       "      <th>8.8</th>\n",
       "      <th>8.9</th>\n",
       "      <th>9.0</th>\n",
       "      <th>9.1</th>\n",
       "      <th>9.2</th>\n",
       "      <th>9.3</th>\n",
       "    </tr>\n",
       "    <tr>\n",
       "      <th>soil_type</th>\n",
       "      <th></th>\n",
       "      <th></th>\n",
       "      <th></th>\n",
       "      <th></th>\n",
       "      <th></th>\n",
       "      <th></th>\n",
       "      <th></th>\n",
       "      <th></th>\n",
       "      <th></th>\n",
       "      <th></th>\n",
       "      <th></th>\n",
       "      <th></th>\n",
       "      <th></th>\n",
       "      <th></th>\n",
       "      <th></th>\n",
       "      <th></th>\n",
       "      <th></th>\n",
       "      <th></th>\n",
       "      <th></th>\n",
       "      <th></th>\n",
       "      <th></th>\n",
       "    </tr>\n",
       "  </thead>\n",
       "  <tbody>\n",
       "    <tr>\n",
       "      <th>Clay</th>\n",
       "      <td>0.0</td>\n",
       "      <td>0.0</td>\n",
       "      <td>0.0</td>\n",
       "      <td>0.0</td>\n",
       "      <td>0.0</td>\n",
       "      <td>0.0</td>\n",
       "      <td>0.0</td>\n",
       "      <td>0.0</td>\n",
       "      <td>0.0</td>\n",
       "      <td>0.0</td>\n",
       "      <td>...</td>\n",
       "      <td>0.0</td>\n",
       "      <td>0.0</td>\n",
       "      <td>0.0</td>\n",
       "      <td>0.0</td>\n",
       "      <td>0.0</td>\n",
       "      <td>0.0</td>\n",
       "      <td>0.0</td>\n",
       "      <td>0.0</td>\n",
       "      <td>0.0</td>\n",
       "      <td>0.0</td>\n",
       "    </tr>\n",
       "    <tr>\n",
       "      <th>Loamy</th>\n",
       "      <td>0.0</td>\n",
       "      <td>0.0</td>\n",
       "      <td>0.0</td>\n",
       "      <td>0.0</td>\n",
       "      <td>0.0</td>\n",
       "      <td>0.0</td>\n",
       "      <td>0.0</td>\n",
       "      <td>0.0</td>\n",
       "      <td>0.0</td>\n",
       "      <td>0.0</td>\n",
       "      <td>...</td>\n",
       "      <td>0.0</td>\n",
       "      <td>0.0</td>\n",
       "      <td>0.0</td>\n",
       "      <td>0.0</td>\n",
       "      <td>0.0</td>\n",
       "      <td>0.0</td>\n",
       "      <td>0.0</td>\n",
       "      <td>0.0</td>\n",
       "      <td>0.0</td>\n",
       "      <td>0.0</td>\n",
       "    </tr>\n",
       "    <tr>\n",
       "      <th>Peaty</th>\n",
       "      <td>1.0</td>\n",
       "      <td>1.0</td>\n",
       "      <td>1.0</td>\n",
       "      <td>1.0</td>\n",
       "      <td>1.0</td>\n",
       "      <td>6.0</td>\n",
       "      <td>6.0</td>\n",
       "      <td>6.0</td>\n",
       "      <td>7.0</td>\n",
       "      <td>8.0</td>\n",
       "      <td>...</td>\n",
       "      <td>0.0</td>\n",
       "      <td>0.0</td>\n",
       "      <td>0.0</td>\n",
       "      <td>0.0</td>\n",
       "      <td>0.0</td>\n",
       "      <td>0.0</td>\n",
       "      <td>0.0</td>\n",
       "      <td>0.0</td>\n",
       "      <td>0.0</td>\n",
       "      <td>0.0</td>\n",
       "    </tr>\n",
       "    <tr>\n",
       "      <th>Sandy</th>\n",
       "      <td>0.0</td>\n",
       "      <td>0.0</td>\n",
       "      <td>0.0</td>\n",
       "      <td>0.0</td>\n",
       "      <td>0.0</td>\n",
       "      <td>0.0</td>\n",
       "      <td>0.0</td>\n",
       "      <td>0.0</td>\n",
       "      <td>0.0</td>\n",
       "      <td>0.0</td>\n",
       "      <td>...</td>\n",
       "      <td>4.0</td>\n",
       "      <td>5.0</td>\n",
       "      <td>4.0</td>\n",
       "      <td>4.0</td>\n",
       "      <td>4.0</td>\n",
       "      <td>3.0</td>\n",
       "      <td>3.0</td>\n",
       "      <td>3.0</td>\n",
       "      <td>1.0</td>\n",
       "      <td>1.0</td>\n",
       "    </tr>\n",
       "    <tr>\n",
       "      <th>Silty</th>\n",
       "      <td>0.0</td>\n",
       "      <td>0.0</td>\n",
       "      <td>0.0</td>\n",
       "      <td>0.0</td>\n",
       "      <td>0.0</td>\n",
       "      <td>0.0</td>\n",
       "      <td>0.0</td>\n",
       "      <td>0.0</td>\n",
       "      <td>0.0</td>\n",
       "      <td>0.0</td>\n",
       "      <td>...</td>\n",
       "      <td>0.0</td>\n",
       "      <td>0.0</td>\n",
       "      <td>0.0</td>\n",
       "      <td>0.0</td>\n",
       "      <td>0.0</td>\n",
       "      <td>0.0</td>\n",
       "      <td>0.0</td>\n",
       "      <td>0.0</td>\n",
       "      <td>0.0</td>\n",
       "      <td>0.0</td>\n",
       "    </tr>\n",
       "  </tbody>\n",
       "</table>\n",
       "<p>5 rows × 59 columns</p>\n",
       "</div>"
      ],
      "text/plain": [
       "          count                                               ...            \\\n",
       "soil_ph     3.5  3.6  3.7  3.8  3.9  4.0  4.1  4.2  4.3  4.4  ...  8.4  8.5   \n",
       "soil_type                                                     ...             \n",
       "Clay        0.0  0.0  0.0  0.0  0.0  0.0  0.0  0.0  0.0  0.0  ...  0.0  0.0   \n",
       "Loamy       0.0  0.0  0.0  0.0  0.0  0.0  0.0  0.0  0.0  0.0  ...  0.0  0.0   \n",
       "Peaty       1.0  1.0  1.0  1.0  1.0  6.0  6.0  6.0  7.0  8.0  ...  0.0  0.0   \n",
       "Sandy       0.0  0.0  0.0  0.0  0.0  0.0  0.0  0.0  0.0  0.0  ...  4.0  5.0   \n",
       "Silty       0.0  0.0  0.0  0.0  0.0  0.0  0.0  0.0  0.0  0.0  ...  0.0  0.0   \n",
       "\n",
       "                                                   \n",
       "soil_ph    8.6  8.7  8.8  8.9  9.0  9.1  9.2  9.3  \n",
       "soil_type                                          \n",
       "Clay       0.0  0.0  0.0  0.0  0.0  0.0  0.0  0.0  \n",
       "Loamy      0.0  0.0  0.0  0.0  0.0  0.0  0.0  0.0  \n",
       "Peaty      0.0  0.0  0.0  0.0  0.0  0.0  0.0  0.0  \n",
       "Sandy      4.0  4.0  4.0  3.0  3.0  3.0  1.0  1.0  \n",
       "Silty      0.0  0.0  0.0  0.0  0.0  0.0  0.0  0.0  \n",
       "\n",
       "[5 rows x 59 columns]"
      ]
     },
     "execution_count": 36,
     "metadata": {},
     "output_type": "execute_result"
    }
   ],
   "source": [
    "ph.unstack().fillna(0)"
   ]
  },
  {
   "cell_type": "code",
   "execution_count": 54,
   "id": "2faeaad4-1b8c-404f-8388-ee98c3bd2423",
   "metadata": {},
   "outputs": [
    {
     "data": {
      "image/png": "[encoded data removed]",
      "text/plain": [
       "<Figure size 1200x1000 with 6 Axes>"
      ]
     },
     "metadata": {},
     "output_type": "display_data"
    }
   ],
   "source": [
    "soil_types = types\n",
    "colors = ['#e41a1c', '#377eb8', '#4daf4a', '#984ea3', '#ff7f00']\n",
    "\n",
    "fig, axes = plt.subplots(3, 2, figsize=(12, 10))\n",
    "axes = axes.flatten()\n",
    "\n",
    "for i, soil_type in enumerate(soil_types):\n",
    "    if i < len(axes):\n",
    "        ax = axes[i]\n",
    "        \n",
    "        soil_ph_counts = ph.loc[soil_type]\n",
    "        \n",
    "        bars = soil_ph_counts.plot.bar(ax=ax, color=colors[i])\n",
    "        \n",
    "        ax.set_title(f'pH Distribution for {soil_type} Soil', fontweight='bold')\n",
    "        ax.set_xlabel('Soil pH')\n",
    "        ax.set_ylabel('Count')\n",
    "        \n",
    "        ax.legend([soil_type], loc='best')\n",
    "\n",
    "if len(soil_types) < len(axes):\n",
    "    axes[-1].set_visible(False)\n",
    "\n",
    "fig.suptitle('pH Distribution Across Different Soil Types', fontsize=16, y=0.98)\n",
    "\n",
    "plt.tight_layout(rect=[0, 0, 1, 0.96])\n",
    "plt.show()"
   ]
  },
  {
   "cell_type": "markdown",
   "id": "45e5ed59-fb0c-43e5-843b-152d811304d1",
   "metadata": {},
   "source": [
    "### Data Cleaning"
   ]
  },
  {
   "cell_type": "code",
   "execution_count": 57,
   "id": "d79dff25-29c9-4549-a443-6fc8808280e4",
   "metadata": {},
   "outputs": [
    {
     "data": {
      "text/plain": [
       "sample_id                 0\n",
       "soil_moisture_percent     0\n",
       "soil_ph                   0\n",
       "temperature_celsius       0\n",
       "depth_cm                  0\n",
       "soil_type                 0\n",
       "location_type             0\n",
       "season                    0\n",
       "organic_matter_percent    0\n",
       "precipitation_mm          0\n",
       "nitrogen_mg_kg            0\n",
       "phosphorus_mg_kg          0\n",
       "potassium_mg_kg           0\n",
       "dtype: int64"
      ]
     },
     "execution_count": 57,
     "metadata": {},
     "output_type": "execute_result"
    }
   ],
   "source": [
    "soil_data.isnull().sum()"
   ]
  },
  {
   "cell_type": "markdown",
   "id": "54782176-39f6-4cce-b493-f8906bc7e0ee",
   "metadata": {},
   "source": [
    "### categorical encoding"
   ]
  },
  {
   "cell_type": "code",
   "execution_count": 189,
   "id": "39dd6554-17e4-47a4-8921-4ee052bf18c2",
   "metadata": {},
   "outputs": [],
   "source": [
    "le = LabelEncoder()"
   ]
  },
  {
   "cell_type": "code",
   "execution_count": 190,
   "id": "6d3e0476-1b8e-43a8-89e2-c93b5a4adcd4",
   "metadata": {},
   "outputs": [],
   "source": [
    "soil_data['soil_type'] = le.fit_transform(soil_data['soil_type'])"
   ]
  },
  {
   "cell_type": "code",
   "execution_count": 191,
   "id": "15e39920-6a77-4caa-9517-24ab613af568",
   "metadata": {},
   "outputs": [
    {
     "data": {
      "text/plain": [
       "array([4, 2, 0, 3, 1])"
      ]
     },
     "execution_count": 191,
     "metadata": {},
     "output_type": "execute_result"
    }
   ],
   "source": [
    "soil_data['soil_type'].unique()"
   ]
  },
  {
   "cell_type": "code",
   "execution_count": 192,
   "id": "fa95844a-3bc4-4dc0-bfe4-57b34b412b87",
   "metadata": {},
   "outputs": [
    {
     "data": {
      "text/plain": [
       "array(['Silty', 'Peaty', 'Clay', 'Sandy', 'Loamy'], dtype=object)"
      ]
     },
     "execution_count": 192,
     "metadata": {},
     "output_type": "execute_result"
    }
   ],
   "source": [
    "le.inverse_transform([4, 2, 0, 3, 1])"
   ]
  },
  {
   "cell_type": "code",
   "execution_count": 193,
   "id": "b06487a9-0649-4262-bded-4ad12eba334c",
   "metadata": {},
   "outputs": [],
   "source": [
    "soil_data['location_type'] = le.fit_transform(soil_data['location_type'])"
   ]
  },
  {
   "cell_type": "code",
   "execution_count": 194,
   "id": "0fbcf611-1915-43cb-8825-7c6df5b32336",
   "metadata": {},
   "outputs": [],
   "source": [
    "soil_data['season'] = le.fit_transform(soil_data['season'])"
   ]
  },
  {
   "cell_type": "code",
   "execution_count": 195,
   "id": "afc03f0d-a4c5-445f-80a1-c3eb4a54d493",
   "metadata": {},
   "outputs": [
    {
     "data": {
      "text/plain": [
       "array([0, 1, 2, 3])"
      ]
     },
     "execution_count": 195,
     "metadata": {},
     "output_type": "execute_result"
    }
   ],
   "source": [
    "soil_data['season'].unique()"
   ]
  },
  {
   "cell_type": "code",
   "execution_count": 196,
   "id": "d9c6f257-90fe-4ef2-a1d2-eba239e4316d",
   "metadata": {},
   "outputs": [
    {
     "data": {
      "text/plain": [
       "array(['Fall', 'Spring', 'Summer', 'Winter'], dtype=object)"
      ]
     },
     "execution_count": 196,
     "metadata": {},
     "output_type": "execute_result"
    }
   ],
   "source": [
    "le.inverse_transform([0, 1, 2, 3])"
   ]
  },
  {
   "cell_type": "markdown",
   "id": "6536ae3c-ed51-4fd9-abd1-7708fe7e68ad",
   "metadata": {},
   "source": [
    "### make copies"
   ]
  },
  {
   "cell_type": "code",
   "execution_count": 197,
   "id": "d5746f8e-f7fe-4e6e-a3c5-554b3bf30fa2",
   "metadata": {},
   "outputs": [],
   "source": [
    "soil_type_data = soil_data.copy()\n",
    "soil_ph_data = soil_data.copy()\n",
    "soil_moisture_data = soil_data.copy()"
   ]
  },
  {
   "cell_type": "code",
   "execution_count": 198,
   "id": "82a21606-1da6-497e-bbf4-54d3ad1eabab",
   "metadata": {},
   "outputs": [
    {
     "data": {
      "text/html": [
       "<div>\n",
       "<style scoped>\n",
       "    .dataframe tbody tr th:only-of-type {\n",
       "        vertical-align: middle;\n",
       "    }\n",
       "\n",
       "    .dataframe tbody tr th {\n",
       "        vertical-align: top;\n",
       "    }\n",
       "\n",
       "    .dataframe thead th {\n",
       "        text-align: right;\n",
       "    }\n",
       "</style>\n",
       "<table border=\"1\" class=\"dataframe\">\n",
       "  <thead>\n",
       "    <tr style=\"text-align: right;\">\n",
       "      <th></th>\n",
       "      <th>sample_id</th>\n",
       "      <th>soil_moisture_percent</th>\n",
       "      <th>soil_ph</th>\n",
       "      <th>temperature_celsius</th>\n",
       "      <th>depth_cm</th>\n",
       "      <th>soil_type</th>\n",
       "      <th>location_type</th>\n",
       "      <th>season</th>\n",
       "      <th>organic_matter_percent</th>\n",
       "      <th>precipitation_mm</th>\n",
       "      <th>nitrogen_mg_kg</th>\n",
       "      <th>phosphorus_mg_kg</th>\n",
       "      <th>potassium_mg_kg</th>\n",
       "    </tr>\n",
       "  </thead>\n",
       "  <tbody>\n",
       "    <tr>\n",
       "      <th>0</th>\n",
       "      <td>SM001</td>\n",
       "      <td>21.1</td>\n",
       "      <td>5.6</td>\n",
       "      <td>22.3</td>\n",
       "      <td>36</td>\n",
       "      <td>4</td>\n",
       "      <td>2</td>\n",
       "      <td>0</td>\n",
       "      <td>3.4</td>\n",
       "      <td>63</td>\n",
       "      <td>16</td>\n",
       "      <td>14</td>\n",
       "      <td>128</td>\n",
       "    </tr>\n",
       "    <tr>\n",
       "      <th>1</th>\n",
       "      <td>SM002</td>\n",
       "      <td>33.5</td>\n",
       "      <td>6.0</td>\n",
       "      <td>21.7</td>\n",
       "      <td>33</td>\n",
       "      <td>2</td>\n",
       "      <td>4</td>\n",
       "      <td>0</td>\n",
       "      <td>14.3</td>\n",
       "      <td>45</td>\n",
       "      <td>84</td>\n",
       "      <td>26</td>\n",
       "      <td>286</td>\n",
       "    </tr>\n",
       "    <tr>\n",
       "      <th>2</th>\n",
       "      <td>SM003</td>\n",
       "      <td>39.8</td>\n",
       "      <td>6.1</td>\n",
       "      <td>11.9</td>\n",
       "      <td>39</td>\n",
       "      <td>0</td>\n",
       "      <td>5</td>\n",
       "      <td>1</td>\n",
       "      <td>7.9</td>\n",
       "      <td>47</td>\n",
       "      <td>46</td>\n",
       "      <td>22</td>\n",
       "      <td>161</td>\n",
       "    </tr>\n",
       "    <tr>\n",
       "      <th>3</th>\n",
       "      <td>SM004</td>\n",
       "      <td>49.7</td>\n",
       "      <td>4.0</td>\n",
       "      <td>14.7</td>\n",
       "      <td>26</td>\n",
       "      <td>2</td>\n",
       "      <td>1</td>\n",
       "      <td>0</td>\n",
       "      <td>11.1</td>\n",
       "      <td>39</td>\n",
       "      <td>49</td>\n",
       "      <td>21</td>\n",
       "      <td>186</td>\n",
       "    </tr>\n",
       "    <tr>\n",
       "      <th>4</th>\n",
       "      <td>SM005</td>\n",
       "      <td>47.4</td>\n",
       "      <td>5.1</td>\n",
       "      <td>14.5</td>\n",
       "      <td>35</td>\n",
       "      <td>2</td>\n",
       "      <td>4</td>\n",
       "      <td>1</td>\n",
       "      <td>10.6</td>\n",
       "      <td>53</td>\n",
       "      <td>61</td>\n",
       "      <td>20</td>\n",
       "      <td>201</td>\n",
       "    </tr>\n",
       "  </tbody>\n",
       "</table>\n",
       "</div>"
      ],
      "text/plain": [
       "  sample_id  soil_moisture_percent  soil_ph  temperature_celsius  depth_cm  \\\n",
       "0     SM001                   21.1      5.6                 22.3        36   \n",
       "1     SM002                   33.5      6.0                 21.7        33   \n",
       "2     SM003                   39.8      6.1                 11.9        39   \n",
       "3     SM004                   49.7      4.0                 14.7        26   \n",
       "4     SM005                   47.4      5.1                 14.5        35   \n",
       "\n",
       "   soil_type  location_type  season  organic_matter_percent  precipitation_mm  \\\n",
       "0          4              2       0                     3.4                63   \n",
       "1          2              4       0                    14.3                45   \n",
       "2          0              5       1                     7.9                47   \n",
       "3          2              1       0                    11.1                39   \n",
       "4          2              4       1                    10.6                53   \n",
       "\n",
       "   nitrogen_mg_kg  phosphorus_mg_kg  potassium_mg_kg  \n",
       "0              16                14              128  \n",
       "1              84                26              286  \n",
       "2              46                22              161  \n",
       "3              49                21              186  \n",
       "4              61                20              201  "
      ]
     },
     "execution_count": 198,
     "metadata": {},
     "output_type": "execute_result"
    }
   ],
   "source": [
    "soil_moisture_data.head()"
   ]
  },
  {
   "cell_type": "markdown",
   "id": "a015472c-454d-480c-8d63-8b8e5aae44e9",
   "metadata": {},
   "source": [
    "## Prdiction on soil type"
   ]
  },
  {
   "cell_type": "markdown",
   "id": "6265831a-4fb2-49e5-890f-a5ce5e215af5",
   "metadata": {},
   "source": [
    "### spliting data"
   ]
  },
  {
   "cell_type": "code",
   "execution_count": 109,
   "id": "58f0dd73-2892-415b-9db0-57256cbf9945",
   "metadata": {},
   "outputs": [],
   "source": [
    "X = soil_type_data.drop(['sample_id', 'soil_type'], axis=1)\n",
    "y = soil_type_data['soil_type']"
   ]
  },
  {
   "cell_type": "code",
   "execution_count": 110,
   "id": "b6fa513f-ef5b-4679-8e6a-bf5e14ce4fcd",
   "metadata": {},
   "outputs": [],
   "source": [
    "X_train, X_test, y_train, y_test = train_test_split(X, y, test_size=0.30)"
   ]
  },
  {
   "cell_type": "code",
   "execution_count": 111,
   "id": "4a27dcbf-a62d-41fe-a95e-bd0a377b8e61",
   "metadata": {},
   "outputs": [],
   "source": [
    "rf = RandomForestClassifier(random_state=42, n_estimators=500)"
   ]
  },
  {
   "cell_type": "code",
   "execution_count": 112,
   "id": "43296f03-81a6-4ae4-8bef-ed58fe192c43",
   "metadata": {},
   "outputs": [],
   "source": [
    "classifier = rf.fit(X_train, y_train)"
   ]
  },
  {
   "cell_type": "code",
   "execution_count": 113,
   "id": "568cab51-bc47-47c6-9f2a-6f07f13f8fe9",
   "metadata": {},
   "outputs": [],
   "source": [
    "y_pred = classifier.predict(X_test)"
   ]
  },
  {
   "cell_type": "code",
   "execution_count": 114,
   "id": "2d6f25e6-6462-4fe4-b26d-589738a3a368",
   "metadata": {},
   "outputs": [
    {
     "name": "stdout",
     "output_type": "stream",
     "text": [
      "Soil Type Classifier Accuracy score: 92.14%\n"
     ]
    }
   ],
   "source": [
    "print(f'Soil Type Classifier Accuracy score: {accuracy_score(y_pred, y_test) * 100:.2f}%')"
   ]
  },
  {
   "cell_type": "code",
   "execution_count": 115,
   "id": "10339cd8-a1c4-4c84-bcac-f9520ae24fa0",
   "metadata": {},
   "outputs": [],
   "source": [
    "pickle.dump(classifier, open(\"soil_type.sav\",\"wb\"))"
   ]
  },
  {
   "cell_type": "markdown",
   "id": "98f0bfd6-9a7e-46a0-8718-a369c78815e8",
   "metadata": {},
   "source": [
    "### making a predictive system"
   ]
  },
  {
   "cell_type": "code",
   "execution_count": 152,
   "id": "4e63b7f8-18c6-433c-887d-605eb7bb02ee",
   "metadata": {},
   "outputs": [],
   "source": [
    "def soil_type_prediction(classifier, data):\n",
    "\n",
    "    data[\"location_type\"] = le.fit_transform([data[\"location_type\"]])[0]\n",
    "    data[\"season\"] = le.fit_transform([data[\"season\"]])[0]\n",
    "\n",
    "    input_data = ([\n",
    "        data['soil_moisture_percent'], \n",
    "        data['soil_ph'], \n",
    "        data['temperature_celsius'], \n",
    "        data['depth_cm'], \n",
    "        data[\"location_type\"], \n",
    "        data[\"season\"], \n",
    "        data['organic_matter_percent'], \n",
    "        data['precipitation_mm'], \n",
    "        data['nitrogen_mg_kg'], \n",
    "        data['phosphorus_mg_kg'], \n",
    "        data['potassium_mg_kg']\n",
    "    ])\n",
    "    #=========convert data into numpy array===========\n",
    "    input_data = np.asarray(input_data)\n",
    "    #===========input data reshape===============\n",
    "    input_data = input_data.reshape(1, -1)\n",
    "\n",
    "    numeric_prediction = classifier.predict(input_data)[0]\n",
    "    \n",
    "    soil_type_map = {\n",
    "        0: 'Clay',\n",
    "        1: 'Loamy',\n",
    "        2: 'Peaty',\n",
    "        3: 'Sandy',\n",
    "        4: 'Silty'\n",
    "    }\n",
    "    \n",
    "    return soil_type_map[numeric_prediction]"
   ]
  },
  {
   "cell_type": "code",
   "execution_count": 153,
   "id": "d2f87d09-a245-4b92-9822-557e03cfc74f",
   "metadata": {},
   "outputs": [
    {
     "name": "stdout",
     "output_type": "stream",
     "text": [
      "Silty\n"
     ]
    },
    {
     "name": "stderr",
     "output_type": "stream",
     "text": [
      "/home/james/anaconda3/lib/python3.12/site-packages/sklearn/base.py:493: UserWarning: X does not have valid feature names, but RandomForestClassifier was fitted with feature names\n",
      "  warnings.warn(\n"
     ]
    }
   ],
   "source": [
    "classifier = pickle.load(open(\"soil_type.sav\",'rb'))\n",
    "soil_data = {\n",
    "    'soil_moisture_percent': 21.1,\n",
    "    'soil_ph': 5.6,\n",
    "    'temperature_celsius': 22.3,\n",
    "    'depth_cm': 36,\n",
    "    'location_type': \"Grassland\",\n",
    "    'season': \"Fall\",\n",
    "    'organic_matter_percent': 3.4,\n",
    "    'precipitation_mm': 63,\n",
    "    'nitrogen_mg_kg': 16,\n",
    "    'phosphorus_mg_kg': 14,\n",
    "    'potassium_mg_kg': 128\n",
    "}\n",
    "print(soil_type_prediction(classifier, soil_data))"
   ]
  },
  {
   "cell_type": "code",
   "execution_count": null,
   "id": "d0306509-d444-45ab-b219-4d1a6d089896",
   "metadata": {},
   "outputs": [],
   "source": []
  },
  {
   "cell_type": "markdown",
   "id": "28278312-c086-4c86-acc7-e6851ec112df",
   "metadata": {},
   "source": [
    "## Prediction on Soil pH"
   ]
  },
  {
   "cell_type": "code",
   "execution_count": 170,
   "id": "e66eaabc-71f5-49da-a034-907d82346f18",
   "metadata": {},
   "outputs": [],
   "source": [
    "X = soil_type_data.drop([\"sample_id\", \"soil_ph\"], axis=1)\n",
    "y = soil_type_data['soil_ph']"
   ]
  },
  {
   "cell_type": "code",
   "execution_count": 171,
   "id": "56f7bfe3-bf71-4980-b1d0-376ae0955339",
   "metadata": {},
   "outputs": [],
   "source": [
    "X_train, X_test, y_train, y_test = train_test_split(X, y, test_size=0.30)"
   ]
  },
  {
   "cell_type": "code",
   "execution_count": 172,
   "id": "0ab4820c-3bd1-4231-a8cc-914da71cefa0",
   "metadata": {},
   "outputs": [],
   "source": [
    "rfr = RandomForestRegressor(random_state=42, n_estimators=500)"
   ]
  },
  {
   "cell_type": "code",
   "execution_count": 173,
   "id": "96fedb3b-6981-4112-94e1-737bb548c601",
   "metadata": {},
   "outputs": [],
   "source": [
    "regressor = rfr.fit(X_train, y_train)"
   ]
  },
  {
   "cell_type": "code",
   "execution_count": 174,
   "id": "ef475c64-f63c-4275-a153-e4c1ba052cb9",
   "metadata": {},
   "outputs": [],
   "source": [
    "y_pred = regressor.predict(X_test)"
   ]
  },
  {
   "cell_type": "code",
   "execution_count": 175,
   "id": "a739ca99-d525-424c-9ae2-2a95511e2d70",
   "metadata": {},
   "outputs": [
    {
     "name": "stdout",
     "output_type": "stream",
     "text": [
      "Soil pH Prediction score: 93.46%\n"
     ]
    }
   ],
   "source": [
    "print(f'Soil pH Prediction score: {r2_score(y_pred, y_test) * 100:.2f}%')"
   ]
  },
  {
   "cell_type": "code",
   "execution_count": 176,
   "id": "80bac372-36f2-481b-9728-ad78a7bcace2",
   "metadata": {},
   "outputs": [],
   "source": [
    "pickle.dump(regressor, open(\"soil_pH.sav\",\"wb\"))"
   ]
  },
  {
   "cell_type": "code",
   "execution_count": null,
   "id": "ab1f0019-9b38-4483-979f-d47923cf60b1",
   "metadata": {},
   "outputs": [],
   "source": []
  },
  {
   "cell_type": "markdown",
   "id": "f49d39b9-3d4e-4e2d-8741-b2dd3c73aa5b",
   "metadata": {},
   "source": [
    "### making a predictive system"
   ]
  },
  {
   "cell_type": "code",
   "execution_count": 183,
   "id": "19bcc41c-e3ec-420e-9132-884cb8de1e20",
   "metadata": {},
   "outputs": [],
   "source": [
    "def soil_pH_prediction(regrassor, data):\n",
    "\n",
    "    data[\"soil_type\"] = le.fit_transform([data[\"soil_type\"]])[0]\n",
    "    data[\"location_type\"] = le.fit_transform([data[\"location_type\"]])[0]\n",
    "    data[\"season\"] = le.fit_transform([data[\"season\"]])[0]\n",
    "\n",
    "    input_data = ([\n",
    "        data['soil_moisture_percent'], \n",
    "        data['temperature_celsius'], \n",
    "        data['soil_type'], \n",
    "        data['depth_cm'], \n",
    "        data[\"location_type\"], \n",
    "        data[\"season\"], \n",
    "        data['organic_matter_percent'], \n",
    "        data['precipitation_mm'], \n",
    "        data['nitrogen_mg_kg'], \n",
    "        data['phosphorus_mg_kg'], \n",
    "        data['potassium_mg_kg']\n",
    "    ])\n",
    "    #=========convert data into numpy array===========\n",
    "    input_data = np.asarray(input_data)\n",
    "    #===========input data reshape===============\n",
    "    input_data = input_data.reshape(1, -1)\n",
    "\n",
    "    prediction = regrassor.predict(input_data)[0]\n",
    "    \n",
    "    return f\"{prediction:.2f}\""
   ]
  },
  {
   "cell_type": "code",
   "execution_count": 184,
   "id": "180103c5-93e0-4136-9373-8a2677330106",
   "metadata": {},
   "outputs": [
    {
     "name": "stdout",
     "output_type": "stream",
     "text": [
      "5.95\n"
     ]
    },
    {
     "name": "stderr",
     "output_type": "stream",
     "text": [
      "/home/james/anaconda3/lib/python3.12/site-packages/sklearn/base.py:493: UserWarning: X does not have valid feature names, but RandomForestRegressor was fitted with feature names\n",
      "  warnings.warn(\n"
     ]
    }
   ],
   "source": [
    "regrassor = pickle.load(open(\"soil_pH.sav\",'rb'))\n",
    "soil_data = {\n",
    "    'soil_moisture_percent': 21.1,\n",
    "    'temperature_celsius': 22.3,\n",
    "    'depth_cm': 36,\n",
    "    'soil_type':\"Silty\",\n",
    "    'location_type': \"Grassland\",\n",
    "    'season': \"Fall\",\n",
    "    'organic_matter_percent': 3.4,\n",
    "    'precipitation_mm': 63,\n",
    "    'nitrogen_mg_kg': 16,\n",
    "    'phosphorus_mg_kg': 14,\n",
    "    'potassium_mg_kg': 128\n",
    "}\n",
    "print(soil_pH_prediction(regrassor, soil_data))"
   ]
  },
  {
   "cell_type": "code",
   "execution_count": null,
   "id": "28f6c337-37f2-4832-a09a-cee1560d0e28",
   "metadata": {},
   "outputs": [],
   "source": []
  },
  {
   "cell_type": "markdown",
   "id": "35ee3dab-dda9-4139-a8f4-225e3bd5417d",
   "metadata": {},
   "source": [
    "## Soil Moisture Prediction"
   ]
  },
  {
   "cell_type": "code",
   "execution_count": 199,
   "id": "c6830b80-9a47-40e0-ac97-5203ead1081c",
   "metadata": {},
   "outputs": [],
   "source": [
    "X = soil_moisture_data.drop([\"sample_id\", \"soil_moisture_percent\"], axis=1)\n",
    "y = soil_moisture_data['soil_moisture_percent']"
   ]
  },
  {
   "cell_type": "code",
   "execution_count": 200,
   "id": "88d5386d-c37b-4bc4-ac3b-de2d45bd5c25",
   "metadata": {},
   "outputs": [],
   "source": [
    "X_train, X_test, y_train, y_test = train_test_split(X, y, test_size=0.30)"
   ]
  },
  {
   "cell_type": "code",
   "execution_count": 201,
   "id": "6e058a47-693e-4be8-ba70-e95053437a0d",
   "metadata": {},
   "outputs": [],
   "source": [
    "regressor2 = rfr.fit(X_train, y_train)"
   ]
  },
  {
   "cell_type": "code",
   "execution_count": 202,
   "id": "307ac953-93d7-4ba9-b74b-82ffa15b290c",
   "metadata": {},
   "outputs": [],
   "source": [
    "moisture_pred = regressor2.predict(X_test)"
   ]
  },
  {
   "cell_type": "code",
   "execution_count": 204,
   "id": "63f06d68-82aa-4a71-8ebe-c9c743be2c62",
   "metadata": {},
   "outputs": [
    {
     "name": "stdout",
     "output_type": "stream",
     "text": [
      "Soil moisture Prediction score: 92.92%\n"
     ]
    }
   ],
   "source": [
    "print(f'Soil moisture Prediction score: {r2_score(moisture_pred, y_test) * 100:.2f}%')"
   ]
  },
  {
   "cell_type": "code",
   "execution_count": 205,
   "id": "63b6d267-aba2-4f9a-9bbd-a44507927ceb",
   "metadata": {},
   "outputs": [],
   "source": [
    "pickle.dump(regressor2, open(\"soil_moisture.sav\",\"wb\"))"
   ]
  },
  {
   "cell_type": "code",
   "execution_count": null,
   "id": "df92c0a6-cddf-4e9e-a1ec-15bedac2f808",
   "metadata": {},
   "outputs": [],
   "source": []
  },
  {
   "cell_type": "markdown",
   "id": "0f602477-79b0-4d4e-8972-c2e0caab5b4f",
   "metadata": {},
   "source": [
    "### making a prediction system"
   ]
  },
  {
   "cell_type": "code",
   "execution_count": 207,
   "id": "915cfb0f-ba48-4d20-9722-31deb362b32b",
   "metadata": {},
   "outputs": [],
   "source": [
    "def soil_moisture_prediction(m_regrassor, data):\n",
    "\n",
    "    data[\"soil_type\"] = le.fit_transform([data[\"soil_type\"]])[0]\n",
    "    data[\"location_type\"] = le.fit_transform([data[\"location_type\"]])[0]\n",
    "    data[\"season\"] = le.fit_transform([data[\"season\"]])[0]\n",
    "\n",
    "    input_data = ([\n",
    "        data['soil_ph'], \n",
    "        data['temperature_celsius'], \n",
    "        data['soil_type'], \n",
    "        data['depth_cm'], \n",
    "        data[\"location_type\"], \n",
    "        data[\"season\"], \n",
    "        data['organic_matter_percent'], \n",
    "        data['precipitation_mm'], \n",
    "        data['nitrogen_mg_kg'], \n",
    "        data['phosphorus_mg_kg'], \n",
    "        data['potassium_mg_kg']\n",
    "    ])\n",
    "    #=========convert data into numpy array===========\n",
    "    input_data = np.asarray(input_data)\n",
    "    #===========input data reshape===============\n",
    "    input_data = input_data.reshape(1, -1)\n",
    "\n",
    "    prediction = m_regrassor.predict(input_data)[0]\n",
    "    \n",
    "    return f\"{prediction:.2f}%\""
   ]
  },
  {
   "cell_type": "code",
   "execution_count": 208,
   "id": "572027cc-2954-44a0-953b-a565d7793f31",
   "metadata": {},
   "outputs": [
    {
     "name": "stdout",
     "output_type": "stream",
     "text": [
      "21.61%\n"
     ]
    },
    {
     "name": "stderr",
     "output_type": "stream",
     "text": [
      "/home/james/anaconda3/lib/python3.12/site-packages/sklearn/base.py:493: UserWarning: X does not have valid feature names, but RandomForestRegressor was fitted with feature names\n",
      "  warnings.warn(\n"
     ]
    }
   ],
   "source": [
    "m_regrassor = pickle.load(open(\"soil_moisture.sav\",'rb'))\n",
    "soil_data = {\n",
    "    'soil_ph': 5.6,\n",
    "    'temperature_celsius': 22.3,\n",
    "    'depth_cm': 36,\n",
    "    'soil_type':\"Silty\",\n",
    "    'location_type': \"Grassland\",\n",
    "    'season': \"Fall\",\n",
    "    'organic_matter_percent': 3.4,\n",
    "    'precipitation_mm': 63,\n",
    "    'nitrogen_mg_kg': 16,\n",
    "    'phosphorus_mg_kg': 14,\n",
    "    'potassium_mg_kg': 128\n",
    "}\n",
    "print(soil_moisture_prediction(m_regrassor, soil_data))"
   ]
  },
  {
   "cell_type": "code",
   "execution_count": null,
   "id": "9a3f2bae-326e-43dc-83ed-ff9873c282ff",
   "metadata": {},
   "outputs": [],
   "source": []
  }
 ],
 "metadata": {
  "kernelspec": {
   "display_name": "Python [conda env:base] *",
   "language": "python",
   "name": "conda-base-py"
  },
  "language_info": {
   "codemirror_mode": {
    "name": "ipython",
    "version": 3
   },
   "file_extension": ".py",
   "mimetype": "text/x-python",
   "name": "python",
   "nbconvert_exporter": "python",
   "pygments_lexer": "ipython3",
   "version": "3.12.7"
  }
 },
 "nbformat": 4,
 "nbformat_minor": 5
}
